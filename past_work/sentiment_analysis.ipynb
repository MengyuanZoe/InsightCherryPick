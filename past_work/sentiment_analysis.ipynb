{
 "cells": [
  {
   "cell_type": "markdown",
   "metadata": {},
   "source": [
    "## Overview"
   ]
  },
  {
   "cell_type": "markdown",
   "metadata": {},
   "source": [
    "This notebook develops some simple tools to identify sentiment in text. "
   ]
  },
  {
   "cell_type": "markdown",
   "metadata": {},
   "source": [
    "### Imports"
   ]
  },
  {
   "cell_type": "code",
   "execution_count": 6,
   "metadata": {},
   "outputs": [],
   "source": [
    "import re\n",
    "from textblob import TextBlob\n",
    "from vaderSentiment.vaderSentiment import SentimentIntensityAnalyzer\n",
    "import pandas as pd\n",
    "import numpy as np\n",
    "\n",
    "%matplotlib inline"
   ]
  },
  {
   "cell_type": "markdown",
   "metadata": {},
   "source": [
    "### Helpers"
   ]
  },
  {
   "cell_type": "code",
   "execution_count": 7,
   "metadata": {
    "collapsed": true
   },
   "outputs": [],
   "source": [
    "analyzer = SentimentIntensityAnalyzer()"
   ]
  },
  {
   "cell_type": "code",
   "execution_count": 8,
   "metadata": {
    "collapsed": true
   },
   "outputs": [],
   "source": [
    "def is_username(text):\n",
    "    if re.match(\"@[A-Za-z0-9_.]+\",text):\n",
    "        return True\n",
    "    return False\n",
    "    \n",
    "def is_hashtag(text):\n",
    "    if re.match(\"#[A-Za-z0-9_.]+\",text):\n",
    "        return True\n",
    "    return False\n",
    "\n",
    "## regular expression for finding unicode\n",
    "myre = re.compile(u'['\n",
    "    u'\\U0001F300-\\U0001F64F'\n",
    "    u'\\U0001F680-\\U0001F6FF'\n",
    "    u'\\u2600-\\u26FF\\u2700-\\u27BF]+', \n",
    "    re.UNICODE)\n",
    "\n",
    "def strip_unicode(text):\n",
    "    return myre.sub('',text)\n",
    "\n",
    "def cleaned_text_for_langdect(word_list):\n",
    "    new_text = ' '.join([word.lower() for word in word_list \n",
    "                         if not is_username(word) \n",
    "                         and not is_hashtag(word)])\n",
    "    return strip_unicode(new_text)"
   ]
  },
  {
   "cell_type": "markdown",
   "metadata": {},
   "source": [
    "### Data"
   ]
  },
  {
   "cell_type": "code",
   "execution_count": 9,
   "metadata": {
    "collapsed": true
   },
   "outputs": [],
   "source": [
    "df = pd.read_csv('loreal_comments.csv')"
   ]
  },
  {
   "cell_type": "code",
   "execution_count": 10,
   "metadata": {},
   "outputs": [],
   "source": [
    "comment_dicts = list(df.T.to_dict().values())"
   ]
  },
  {
   "cell_type": "code",
   "execution_count": 11,
   "metadata": {},
   "outputs": [],
   "source": [
    "enriched_comment_dicts = []\n",
    "for comment_dict in comment_dicts:\n",
    "    clean_text = cleaned_text_for_langdect(comment_dict['text'].split(\" \"))\n",
    "    comment_dict['clean_text'] = clean_text\n",
    "    comment_dict['text_blob_score'] = TextBlob(clean_text).sentiment.polarity\n",
    "    comment_dict['vader_score'] = analyzer.polarity_scores(clean_text)['compound']\n",
    "    enriched_comment_dicts.append(comment_dict)"
   ]
  },
  {
   "cell_type": "code",
   "execution_count": 12,
   "metadata": {
    "collapsed": true
   },
   "outputs": [],
   "source": [
    "sentiment_df = pd.DataFrame(enriched_comment_dicts)\n",
    "cols = ['username','text','clean_text','text_blob_score','vader_score']\n",
    "sentiment_df = sentiment_df[cols]"
   ]
  },
  {
   "cell_type": "code",
   "execution_count": 13,
   "metadata": {},
   "outputs": [],
   "source": [
    "sentiment_df['compound_score'] = sentiment_df[['text_blob_score','vader_score']].mean(axis=1)"
   ]
  },
  {
   "cell_type": "markdown",
   "metadata": {},
   "source": [
    "### Top 10 Positive Comments"
   ]
  },
  {
   "cell_type": "code",
   "execution_count": 14,
   "metadata": {},
   "outputs": [],
   "source": [
    "top10_df = sentiment_df.sort_values(by=['compound_score'],ascending=False).head(10)"
   ]
  },
  {
   "cell_type": "code",
   "execution_count": 15,
   "metadata": {},
   "outputs": [
    {
     "data": {
      "text/html": [
       "<div>\n",
       "<table border=\"1\" class=\"dataframe\">\n",
       "  <thead>\n",
       "    <tr style=\"text-align: right;\">\n",
       "      <th></th>\n",
       "      <th>username</th>\n",
       "      <th>text</th>\n",
       "      <th>compound_score</th>\n",
       "    </tr>\n",
       "  </thead>\n",
       "  <tbody>\n",
       "    <tr>\n",
       "      <th>175</th>\n",
       "      <td>aurelhhi</td>\n",
       "      <td>The best With \"Greige Perfecto\" and \"Pink-a-po...</td>\n",
       "      <td>0.878950</td>\n",
       "    </tr>\n",
       "    <tr>\n",
       "      <th>198</th>\n",
       "      <td>lise_33</td>\n",
       "      <td>Awesome colour!</td>\n",
       "      <td>0.829400</td>\n",
       "    </tr>\n",
       "    <tr>\n",
       "      <th>149</th>\n",
       "      <td>timonel_m</td>\n",
       "      <td>Awesome 🤗</td>\n",
       "      <td>0.812450</td>\n",
       "    </tr>\n",
       "    <tr>\n",
       "      <th>115</th>\n",
       "      <td>kivanc.tatlitugfan</td>\n",
       "      <td>Perfect 💜</td>\n",
       "      <td>0.785950</td>\n",
       "    </tr>\n",
       "    <tr>\n",
       "      <th>139</th>\n",
       "      <td>angela.salomon1</td>\n",
       "      <td>Perfect for every day</td>\n",
       "      <td>0.785950</td>\n",
       "    </tr>\n",
       "    <tr>\n",
       "      <th>168</th>\n",
       "      <td>palvinxpictures</td>\n",
       "      <td>Barbbb 😍 It's perfect 💜</td>\n",
       "      <td>0.785950</td>\n",
       "    </tr>\n",
       "    <tr>\n",
       "      <th>52</th>\n",
       "      <td>ambre_dmh</td>\n",
       "      <td>Perfect 🌹</td>\n",
       "      <td>0.785950</td>\n",
       "    </tr>\n",
       "    <tr>\n",
       "      <th>13</th>\n",
       "      <td>clsmemories</td>\n",
       "      <td>No way. This color is perfect!!!😍😍</td>\n",
       "      <td>0.761450</td>\n",
       "    </tr>\n",
       "    <tr>\n",
       "      <th>81</th>\n",
       "      <td>_aysha_maryam</td>\n",
       "      <td>@lorealmakeup so beautiful</td>\n",
       "      <td>0.743050</td>\n",
       "    </tr>\n",
       "    <tr>\n",
       "      <th>85</th>\n",
       "      <td>blondiept</td>\n",
       "      <td>Love that shade!! Gonna have to buy one💄</td>\n",
       "      <td>0.740025</td>\n",
       "    </tr>\n",
       "  </tbody>\n",
       "</table>\n",
       "</div>"
      ],
      "text/plain": [
       "               username                                               text  \\\n",
       "175            aurelhhi  The best With \"Greige Perfecto\" and \"Pink-a-po...   \n",
       "198             lise_33                                    Awesome colour!   \n",
       "149           timonel_m                                          Awesome 🤗   \n",
       "115  kivanc.tatlitugfan                                          Perfect 💜   \n",
       "139     angela.salomon1                              Perfect for every day   \n",
       "168     palvinxpictures                            Barbbb 😍 It's perfect 💜   \n",
       "52            ambre_dmh                                          Perfect 🌹   \n",
       "13          clsmemories                 No way. This color is perfect!!!😍😍   \n",
       "81        _aysha_maryam                         @lorealmakeup so beautiful   \n",
       "85            blondiept           Love that shade!! Gonna have to buy one💄   \n",
       "\n",
       "     compound_score  \n",
       "175        0.878950  \n",
       "198        0.829400  \n",
       "149        0.812450  \n",
       "115        0.785950  \n",
       "139        0.785950  \n",
       "168        0.785950  \n",
       "52         0.785950  \n",
       "13         0.761450  \n",
       "81         0.743050  \n",
       "85         0.740025  "
      ]
     },
     "execution_count": 15,
     "metadata": {},
     "output_type": "execute_result"
    }
   ],
   "source": [
    "top10_df[['username','text','compound_score']]"
   ]
  },
  {
   "cell_type": "markdown",
   "metadata": {},
   "source": [
    "### Top 10 Negative Comments"
   ]
  },
  {
   "cell_type": "code",
   "execution_count": 16,
   "metadata": {},
   "outputs": [],
   "source": [
    "bottom10_df = sentiment_df[sentiment_df.compound_score < 0].sort_values(by=['compound_score'],ascending=True).head(10)"
   ]
  },
  {
   "cell_type": "code",
   "execution_count": 17,
   "metadata": {},
   "outputs": [
    {
     "data": {
      "text/html": [
       "<div>\n",
       "<table border=\"1\" class=\"dataframe\">\n",
       "  <thead>\n",
       "    <tr style=\"text-align: right;\">\n",
       "      <th></th>\n",
       "      <th>username</th>\n",
       "      <th>text</th>\n",
       "      <th>compound_score</th>\n",
       "    </tr>\n",
       "  </thead>\n",
       "  <tbody>\n",
       "    <tr>\n",
       "      <th>74</th>\n",
       "      <td>carolynegracebeauty</td>\n",
       "      <td>Desperately need this in America!!</td>\n",
       "      <td>-0.71435</td>\n",
       "    </tr>\n",
       "    <tr>\n",
       "      <th>71</th>\n",
       "      <td>siomarita.mx</td>\n",
       "      <td>Sería raro si se hiciera un tratamiento de ort...</td>\n",
       "      <td>-0.14800</td>\n",
       "    </tr>\n",
       "    <tr>\n",
       "      <th>206</th>\n",
       "      <td>cheryl_girlsaloud</td>\n",
       "      <td>I wil loreal makeup but its too much money 😢 (...</td>\n",
       "      <td>-0.12500</td>\n",
       "    </tr>\n",
       "  </tbody>\n",
       "</table>\n",
       "</div>"
      ],
      "text/plain": [
       "                username                                               text  \\\n",
       "74   carolynegracebeauty                 Desperately need this in America!!   \n",
       "71          siomarita.mx  Sería raro si se hiciera un tratamiento de ort...   \n",
       "206    cheryl_girlsaloud  I wil loreal makeup but its too much money 😢 (...   \n",
       "\n",
       "     compound_score  \n",
       "74         -0.71435  \n",
       "71         -0.14800  \n",
       "206        -0.12500  "
      ]
     },
     "execution_count": 17,
     "metadata": {},
     "output_type": "execute_result"
    }
   ],
   "source": [
    "bottom10_df[['username','text','compound_score']]"
   ]
  },
  {
   "cell_type": "code",
   "execution_count": 25,
   "metadata": {},
   "outputs": [
    {
     "data": {
      "text/plain": [
       "'I wil loreal makeup but its too much money 😢 (sorry my english is bad)'"
      ]
     },
     "execution_count": 25,
     "metadata": {},
     "output_type": "execute_result"
    }
   ],
   "source": [
    "bottom10_df.loc[206].text"
   ]
  },
  {
   "cell_type": "markdown",
   "metadata": {},
   "source": [
    "### Sentiment Distribution"
   ]
  },
  {
   "cell_type": "code",
   "execution_count": 18,
   "metadata": {},
   "outputs": [],
   "source": [
    "n = sentiment_df.shape[0]\n",
    "pos_count = sentiment_df[sentiment_df.compound_score > 0].shape[0]\n",
    "neg_count = sentiment_df[sentiment_df.compound_score < 0].shape[0]\n",
    "neu_count = sentiment_df[sentiment_df.compound_score == 0].shape[0]"
   ]
  },
  {
   "cell_type": "code",
   "execution_count": 28,
   "metadata": {},
   "outputs": [
    {
     "data": {
      "text/plain": [
       "array([ 0.9625,  0.0375])"
      ]
     },
     "execution_count": 28,
     "metadata": {},
     "output_type": "execute_result"
    }
   ],
   "source": [
    "m = pos_count + neg_count\n",
    "np.array([pos_count,neg_count])/m"
   ]
  },
  {
   "cell_type": "code",
   "execution_count": 19,
   "metadata": {},
   "outputs": [],
   "source": [
    "sent_dist = np.array([pos_count,neu_count,neg_count])/n"
   ]
  },
  {
   "cell_type": "code",
   "execution_count": 26,
   "metadata": {},
   "outputs": [
    {
     "data": {
      "text/plain": [
       "array([ 0.36492891,  0.62085308,  0.01421801])"
      ]
     },
     "execution_count": 26,
     "metadata": {},
     "output_type": "execute_result"
    }
   ],
   "source": [
    "sent_dist"
   ]
  },
  {
   "cell_type": "code",
   "execution_count": 20,
   "metadata": {},
   "outputs": [
    {
     "data": {
      "text/plain": [
       "<matplotlib.axes._subplots.AxesSubplot at 0x10d1aa588>"
      ]
     },
     "execution_count": 20,
     "metadata": {},
     "output_type": "execute_result"
    },
    {
     "data": {
      "image/png": "[encoded data removed]",
      "text/plain": [
       "<matplotlib.figure.Figure at 0x10d1a6978>"
      ]
     },
     "metadata": {},
     "output_type": "display_data"
    }
   ],
   "source": [
    "## this is very clearly wrong. not capturing emojis whatsoever!!!!\n",
    "pd.Series(sent_dist).plot(kind='bar')"
   ]
  }
 ],
 "metadata": {
  "kernelspec": {
   "display_name": "Python 3",
   "language": "python",
   "name": "python3"
  },
  "language_info": {
   "codemirror_mode": {
    "name": "ipython",
    "version": 3
   },
   "file_extension": ".py",
   "mimetype": "text/x-python",
   "name": "python",
   "nbconvert_exporter": "python",
   "pygments_lexer": "ipython3",
   "version": "3.6.1"
  }
 },
 "nbformat": 4,
 "nbformat_minor": 2
}
