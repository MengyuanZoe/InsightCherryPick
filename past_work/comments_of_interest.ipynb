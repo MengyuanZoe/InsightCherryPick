{
 "cells": [
  {
   "cell_type": "markdown",
   "metadata": {},
   "source": [
    "## Overview"
   ]
  },
  {
   "cell_type": "markdown",
   "metadata": {},
   "source": [
    "This notebook is about idenifying Instagram comments that are questions or contain certain key words indicating desire. "
   ]
  },
  {
   "cell_type": "markdown",
   "metadata": {},
   "source": [
    "### Imports"
   ]
  },
  {
   "cell_type": "code",
   "execution_count": 1,
   "metadata": {},
   "outputs": [],
   "source": [
    "import pandas as pd\n",
    "import numpy as np\n",
    "import matplotlib.pyplot as plt\n",
    "import seaborn\n",
    "import re\n",
    "import unicodedata as ud\n",
    "import string \n",
    "from nltk.corpus import stopwords\n",
    "import nltk\n",
    "\n",
    "%matplotlib inline"
   ]
  },
  {
   "cell_type": "markdown",
   "metadata": {},
   "source": [
    "### Data"
   ]
  },
  {
   "cell_type": "code",
   "execution_count": 2,
   "metadata": {},
   "outputs": [],
   "source": [
    "df = pd.read_csv('loreal_comments.csv')\n",
    "full_commenters_df = pd.read_csv('loreal_commenters.csv')"
   ]
  },
  {
   "cell_type": "code",
   "execution_count": 4,
   "metadata": {
    "collapsed": true
   },
   "outputs": [],
   "source": [
    "full_commenters_df['username'] = full_commenters_df.instagram_username"
   ]
  },
  {
   "cell_type": "markdown",
   "metadata": {},
   "source": [
    "### Helpers"
   ]
  },
  {
   "cell_type": "code",
   "execution_count": 5,
   "metadata": {
    "collapsed": true
   },
   "outputs": [],
   "source": [
    "def is_username(text):\n",
    "    if re.match(\"@[A-Za-z0-9_.]+\",text):\n",
    "        return True\n",
    "    return False\n",
    "\n",
    "def is_hashtag(text):\n",
    "    if re.match(\"#[A-Za-z0-9_.]+\",text):\n",
    "        return True\n",
    "    return False\n",
    "\n",
    "def is_hashtag(text):\n",
    "    if re.match(\"#[A-Za-z0-9_.]+\",text):\n",
    "        return True\n",
    "    return False\n",
    "\n",
    "## regular expression for finding unicode\n",
    "unicode_re = re.compile(u'['\n",
    "    u'\\U0001F300-\\U0001F64F'\n",
    "    u'\\U0001F680-\\U0001F6FF'\n",
    "    u'\\u2600-\\u26FF\\u2700-\\u27BF]+', \n",
    "    re.UNICODE)\n",
    "\n",
    "def strip_unicode(text):\n",
    "    return unicode_re.sub('',text)\n",
    "\n",
    "target_usernames = ['lorealmakeup']\n",
    "\n",
    "def cleaned_text_for_questions(word_list):\n",
    "    new_text = ' '.join([word.lower().strip('#') for word in word_list \n",
    "                         if not is_username(word)\n",
    "                         and not word in set(target_usernames)])\n",
    "    return strip_unicode(new_text)\n",
    "\n",
    "translator = str.maketrans('', '', string.punctuation)"
   ]
  },
  {
   "cell_type": "markdown",
   "metadata": {},
   "source": [
    "##### Helpers to Identify Questions"
   ]
  },
  {
   "cell_type": "code",
   "execution_count": 22,
   "metadata": {
    "collapsed": true
   },
   "outputs": [],
   "source": [
    "def contains_question_mark(text):\n",
    "    if text.find('?') >= 0:\n",
    "        return True\n",
    "    return False\n",
    "\n",
    "question_words = ['does','has','can','shall','is','was','where','why',\n",
    "                  'who','what','which','how','are','when','which','whose',\n",
    "                  'whom','please']\n",
    "def starts_with_question_word(text):\n",
    "    first_word = text.split(' ')[0]\n",
    "    return first_word in set(question_words)\n",
    "\n",
    "prepostions = ['with','for','about','from']\n",
    "def ends_with_prep(text):\n",
    "    text = text.translate(translator)\n",
    "    last_word = text.split(' ')[-1]\n",
    "    return last_word in set(prepostions)\n",
    "\n",
    "def is_question(text):\n",
    "    score = 0\n",
    "    if contains_question_mark(text): score += 1 \n",
    "    if starts_with_question_word(text): score += 1 \n",
    "    if ends_with_prep(text): score += 1 \n",
    "    if score > 0:\n",
    "        return True\n",
    "    return False"
   ]
  },
  {
   "cell_type": "code",
   "execution_count": 7,
   "metadata": {
    "collapsed": true
   },
   "outputs": [],
   "source": [
    "df['is_question'] = df['text'].apply(lambda x: is_question(cleaned_text_for_questions(x.split(' '))))"
   ]
  },
  {
   "cell_type": "markdown",
   "metadata": {},
   "source": [
    "### Comments indicating desire"
   ]
  },
  {
   "cell_type": "code",
   "execution_count": 8,
   "metadata": {},
   "outputs": [],
   "source": [
    "## Examples\n",
    "# \"Wow want it ❤\"\n",
    "# \"Love this shade! 😍 #want\"\n",
    "# \"Love that shade!! Gonna have to buy one💄\"\n",
    "# \"You need this colour! @lucie.mccorkell\"\n",
    "# \"I need this shade in my life 😍\"\n",
    "# \"Desperately need this in America!!\""
   ]
  },
  {
   "cell_type": "code",
   "execution_count": 26,
   "metadata": {},
   "outputs": [],
   "source": [
    "## Potential words to add:\n",
    "desire_key_words = ['please','want','need','buy']\n",
    "## negs\n",
    "## 'check out my', 'check my', 'follow me'"
   ]
  },
  {
   "cell_type": "code",
   "execution_count": 25,
   "metadata": {
    "collapsed": true
   },
   "outputs": [],
   "source": [
    "def has_key_word(text):\n",
    "    desire_key_words = set(['please','want','need','buy'])\n",
    "    text = text.translate(translator)\n",
    "    comment_words = set(text.split())\n",
    "    if len(comment_words & desire_key_words) > 0:\n",
    "        return True\n",
    "    return False"
   ]
  },
  {
   "cell_type": "code",
   "execution_count": 20,
   "metadata": {
    "collapsed": true
   },
   "outputs": [],
   "source": [
    "def is_lead(text):\n",
    "    return has_key_word(text)"
   ]
  },
  {
   "cell_type": "code",
   "execution_count": 12,
   "metadata": {},
   "outputs": [],
   "source": [
    "df['is_lead'] = df['text'].apply(lambda x: is_lead(cleaned_text_for_questions(x.split(' '))))"
   ]
  }
 ],
 "metadata": {
  "kernelspec": {
   "display_name": "Python 3",
   "language": "python",
   "name": "python3"
  },
  "language_info": {
   "codemirror_mode": {
    "name": "ipython",
    "version": 3
   },
   "file_extension": ".py",
   "mimetype": "text/x-python",
   "name": "python",
   "nbconvert_exporter": "python",
   "pygments_lexer": "ipython3",
   "version": "3.6.1"
  }
 },
 "nbformat": 4,
 "nbformat_minor": 2
}
