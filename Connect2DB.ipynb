{
 "cells": [
  {
   "cell_type": "code",
   "execution_count": 4,
   "metadata": {},
   "outputs": [],
   "source": [
    "import datetime\n",
    "import pandas as pd\n",
    "from sqlalchemy import (create_engine, Column, Integer, String, Float, Text,\n",
    "                        BigInteger, DateTime, ForeignKey, Boolean)\n",
    "from sqlalchemy.orm import relationship\n",
    "from sqlalchemy.ext.declarative import declarative_base\n",
    "import config\n",
    "\n",
    "\n",
    "# Database Configureation Constants\n",
    "HOST = config.DATABASE_HOST\n",
    "USERNAME = config.DATABASE_USERNAME\n",
    "PASSWORD = config.DATABASE_PASSWORD\n",
    "DBNAME = config.DATABASE_NAME\n",
    "PORT = config.DATABASE_PORT\n",
    "\n",
    "# Configuring DB Connection\n",
    "connection_sting = \"postgresql://{}:{}@{}:{}/{}\".format(USERNAME,PASSWORD,HOST,PORT,DBNAME)\n",
    "engine = create_engine(connection_sting)\n",
    "#Base = declarative_base()"
   ]
  },
  {
   "cell_type": "code",
   "execution_count": 6,
   "metadata": {},
   "outputs": [
    {
     "data": {
      "text/html": [
       "<div>\n",
       "<style>\n",
       "    .dataframe thead tr:only-child th {\n",
       "        text-align: right;\n",
       "    }\n",
       "\n",
       "    .dataframe thead th {\n",
       "        text-align: left;\n",
       "    }\n",
       "\n",
       "    .dataframe tbody tr th {\n",
       "        vertical-align: top;\n",
       "    }\n",
       "</style>\n",
       "<table border=\"1\" class=\"dataframe\">\n",
       "  <thead>\n",
       "    <tr style=\"text-align: right;\">\n",
       "      <th></th>\n",
       "      <th>id</th>\n",
       "      <th>comment_id</th>\n",
       "      <th>instagram_id</th>\n",
       "      <th>media_id</th>\n",
       "      <th>created_at</th>\n",
       "      <th>comment_text</th>\n",
       "      <th>purchase_intent_score</th>\n",
       "    </tr>\n",
       "  </thead>\n",
       "  <tbody>\n",
       "    <tr>\n",
       "      <th>0</th>\n",
       "      <td>2</td>\n",
       "      <td>17873812639069135</td>\n",
       "      <td>463237787</td>\n",
       "      <td>1512848127781931752</td>\n",
       "      <td>1494597919</td>\n",
       "      <td>Stunning make up but too much edit so idk is t...</td>\n",
       "      <td>None</td>\n",
       "    </tr>\n",
       "  </tbody>\n",
       "</table>\n",
       "</div>"
      ],
      "text/plain": [
       "   id         comment_id  instagram_id             media_id  created_at  \\\n",
       "0   2  17873812639069135     463237787  1512848127781931752  1494597919   \n",
       "\n",
       "                                        comment_text purchase_intent_score  \n",
       "0  Stunning make up but too much edit so idk is t...                  None  "
      ]
     },
     "execution_count": 6,
     "metadata": {},
     "output_type": "execute_result"
    }
   ],
   "source": [
    "import psycopg2\n",
    "# connect:\n",
    "con = psycopg2.connect(connection_sting)\n",
    "\n",
    "# query:\n",
    "sql_query = \"\"\"\n",
    "SELECT * FROM comment LIMIT 1;\n",
    "\"\"\"\n",
    "data_from_sql = pd.read_sql_query(sql_query,con)\n",
    "\n",
    "data_from_sql.head()"
   ]
  },
  {
   "cell_type": "code",
   "execution_count": null,
   "metadata": {
    "collapsed": true
   },
   "outputs": [],
   "source": []
  }
 ],
 "metadata": {
  "kernelspec": {
   "display_name": "Python 3",
   "language": "python",
   "name": "python3"
  },
  "language_info": {
   "codemirror_mode": {
    "name": "ipython",
    "version": 3
   },
   "file_extension": ".py",
   "mimetype": "text/x-python",
   "name": "python",
   "nbconvert_exporter": "python",
   "pygments_lexer": "ipython3",
   "version": "3.6.1"
  }
 },
 "nbformat": 4,
 "nbformat_minor": 2
}
