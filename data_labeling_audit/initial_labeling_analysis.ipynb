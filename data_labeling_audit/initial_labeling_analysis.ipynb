{
 "cells": [
  {
   "cell_type": "code",
   "execution_count": 28,
   "metadata": {
    "collapsed": true
   },
   "outputs": [],
   "source": [
    "import pandas as pd\n",
    "import numpy as np"
   ]
  },
  {
   "cell_type": "code",
   "execution_count": 34,
   "metadata": {
    "collapsed": true
   },
   "outputs": [],
   "source": [
    "rose_df = pd.read_csv('upwork_rose_sample.csv')\n",
    "apple_df = pd.read_csv('upwork_apple_sample.csv')\n",
    "kristina_df = pd.read_csv('upwork_kristina_sample.csv')\n",
    "cp_df = pd.read_csv('mturk_sample.csv')"
   ]
  },
  {
   "cell_type": "markdown",
   "metadata": {},
   "source": [
    "## Missing Labels"
   ]
  },
  {
   "cell_type": "code",
   "execution_count": 35,
   "metadata": {},
   "outputs": [
    {
     "name": "stdout",
     "output_type": "stream",
     "text": [
      "Rose: 6\n",
      "apple: 6\n",
      "kristina: 1\n",
      "cp: 0\n"
     ]
    }
   ],
   "source": [
    "print('Rose: {}'.format(rose_df.label.isnull().sum()))\n",
    "print('apple: {}'.format(apple_df.label.isnull().sum()))\n",
    "print('kristina: {}'.format(kristina_df.label.isnull().sum()))\n",
    "print('cp: {}'.format(cp_df.label.isnull().sum()))"
   ]
  },
  {
   "cell_type": "markdown",
   "metadata": {},
   "source": [
    "## Fixing column types"
   ]
  },
  {
   "cell_type": "code",
   "execution_count": 36,
   "metadata": {},
   "outputs": [],
   "source": [
    "rose_df.comment_id = rose_df.comment_id.astype(int).astype(str)\n",
    "apple_df.comment_id = apple_df.comment_id.astype(int).astype(str)\n",
    "kristina_df.comment_id = kristina_df.comment_id.astype(int).astype(str)\n",
    "cp_df.comment_id = cp_df.comment_id.astype(int).astype(str)"
   ]
  },
  {
   "cell_type": "markdown",
   "metadata": {},
   "source": [
    "## Fixing CP Labels"
   ]
  },
  {
   "cell_type": "code",
   "execution_count": 67,
   "metadata": {},
   "outputs": [],
   "source": [
    "cp_df.label = cp_df.label.replace({3:2,4:3,5:4}).astype(float)"
   ]
  },
  {
   "cell_type": "markdown",
   "metadata": {},
   "source": [
    "## Merging lablers data together"
   ]
  },
  {
   "cell_type": "code",
   "execution_count": 25,
   "metadata": {
    "collapsed": true
   },
   "outputs": [],
   "source": [
    "key_cols = ['comment_id','label']"
   ]
  },
  {
   "cell_type": "code",
   "execution_count": 38,
   "metadata": {},
   "outputs": [],
   "source": [
    "upwork_labels = rose_df[key_cols].merge(apple_df[key_cols], on='comment_id').merge(kristina_df[key_cols], on='comment_id')"
   ]
  },
  {
   "cell_type": "code",
   "execution_count": 44,
   "metadata": {},
   "outputs": [],
   "source": [
    "upwork_labels.rename(columns={'label_x':'label_rose','label_y':'label_apple','label':'label_kristina'},inplace = True)"
   ]
  },
  {
   "cell_type": "code",
   "execution_count": 68,
   "metadata": {},
   "outputs": [],
   "source": [
    "# upwork_labels"
   ]
  },
  {
   "cell_type": "code",
   "execution_count": null,
   "metadata": {
    "collapsed": true
   },
   "outputs": [],
   "source": []
  },
  {
   "cell_type": "code",
   "execution_count": 50,
   "metadata": {},
   "outputs": [],
   "source": [
    "rose_kristina_match_rate = (upwork_labels.label_rose == upwork_labels.label_kristina).sum()/flot(1000)\n",
    "rose_apple_match_rate = (upwork_labels.label_rose == upwork_labels.label_apple).sum()/float(1000)\n",
    "apple_kristina_match_rate = (upwork_labels.label_apple == upwork_labels.label_kristina).sum()/float(1000)"
   ]
  },
  {
   "cell_type": "code",
   "execution_count": 71,
   "metadata": {},
   "outputs": [
    {
     "name": "stdout",
     "output_type": "stream",
     "text": [
      "Rose and Kristina match rate: 0.653\n",
      "Rose and Apple match rate: 0.642\n",
      "Apple and Kristina match rate: 0.554\n"
     ]
    }
   ],
   "source": [
    "print(\"Rose and Kristina match rate: {}\".format(rose_kristina_match_rate))\n",
    "print(\"Rose and Apple match rate: {}\".format(rose_apple_match_rate))\n",
    "print(\"Apple and Kristina match rate: {}\".format(apple_kristina_match_rate))"
   ]
  },
  {
   "cell_type": "code",
   "execution_count": 73,
   "metadata": {},
   "outputs": [],
   "source": [
    "rose_cp_match_rate = (upwork_labels.label_rose == cp_df.label).sum()/float(1000)\n",
    "kristina_cp_match_rate = (upwork_labels.label_kristina == cp_df.label).sum()/float(1000)\n",
    "apple_cp_match_rate = (upwork_labels.label_apple == cp_df.label).sum()/float(1000)"
   ]
  },
  {
   "cell_type": "code",
   "execution_count": 74,
   "metadata": {},
   "outputs": [
    {
     "name": "stdout",
     "output_type": "stream",
     "text": [
      "Rose and CP match rate: 0.575\n",
      "Kristina and CP match rate: 0.591\n",
      "Apple and CP match rate: 0.536\n"
     ]
    }
   ],
   "source": [
    "print(\"Rose and CP match rate: {}\".format(rose_cp_match_rate))\n",
    "print(\"Kristina and CP match rate: {}\".format(kristina_cp_match_rate))\n",
    "print(\"Apple and CP match rate: {}\".format(apple_cp_match_rate))"
   ]
  },
  {
   "cell_type": "code",
   "execution_count": 56,
   "metadata": {
    "collapsed": true
   },
   "outputs": [],
   "source": [
    "def my_test(row):\n",
    "    return  row['label_rose'] == row['label_apple'] == row['label_kristina'] "
   ]
  },
  {
   "cell_type": "code",
   "execution_count": 58,
   "metadata": {},
   "outputs": [],
   "source": [
    "upwork_labels['all_3_match'] = upwork_labels.apply(my_test,axis=1)"
   ]
  },
  {
   "cell_type": "code",
   "execution_count": 60,
   "metadata": {},
   "outputs": [
    {
     "data": {
      "text/plain": [
       "0.46500000000000002"
      ]
     },
     "execution_count": 60,
     "metadata": {},
     "output_type": "execute_result"
    }
   ],
   "source": [
    "upwork_labels.all_3_match.sum()/float(1000)"
   ]
  },
  {
   "cell_type": "code",
   "execution_count": null,
   "metadata": {
    "collapsed": true
   },
   "outputs": [],
   "source": [
    "all_3_match"
   ]
  }
 ],
 "metadata": {
  "kernelspec": {
   "display_name": "Python 3",
   "language": "python",
   "name": "python3"
  },
  "language_info": {
   "codemirror_mode": {
    "name": "ipython",
    "version": 3
   },
   "file_extension": ".py",
   "mimetype": "text/x-python",
   "name": "python",
   "nbconvert_exporter": "python",
   "pygments_lexer": "ipython3",
   "version": "3.6.1"
  }
 },
 "nbformat": 4,
 "nbformat_minor": 2
}
